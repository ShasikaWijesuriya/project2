{
 "cells": [
  {
   "cell_type": "markdown",
   "id": "2b358d78-5ac4-4394-93da-ec89401e05ef",
   "metadata": {},
   "source": [
    "# Assignment 3\n",
    "## 2024/09/16\n",
    "### **Muthukuda Wijesuriya Arachchige Shasika Wijesuriya**"
   ]
  },
  {
   "cell_type": "markdown",
   "id": "5a62091d-63ce-4c1d-9780-89eaaf32a180",
   "metadata": {},
   "source": [
    "#### 1) Write a lambda expression to get the product of two numbers.\n",
    "#### Run test for expression(5,6)\n",
    "#### Output: 30"
   ]
  },
  {
   "cell_type": "code",
   "execution_count": 65,
   "id": "123c983f-4a6d-4757-9575-61242f8292c4",
   "metadata": {},
   "outputs": [
    {
     "data": {
      "text/plain": [
       "30"
      ]
     },
     "execution_count": 65,
     "metadata": {},
     "output_type": "execute_result"
    }
   ],
   "source": [
    "# writing a lambda expression :\n",
    "product = lambda first_num,second_num:first_num*second_num\n",
    "\n",
    "# Using the given values in the question :\n",
    "result = product(5,6)\n",
    "result"
   ]
  },
  {
   "cell_type": "markdown",
   "id": "1b5630da-64ff-4b61-8ac7-0399c85d1c42",
   "metadata": {},
   "source": [
    "#### 2)Write a function to get the area of a circle from the radius. \n",
    "#### Hint: remember to import the right modul for being able to calculte the area of the circle.\r",
    "#### Run test for function(10)\r",
    "#### Output: 314.1592653589793"
   ]
  },
  {
   "cell_type": "code",
   "execution_count": 67,
   "id": "04323730-f072-4904-b14e-1d49e97f964e",
   "metadata": {},
   "outputs": [
    {
     "name": "stdout",
     "output_type": "stream",
     "text": [
      "314.1592653589793\n"
     ]
    }
   ],
   "source": [
    "# importing the math module to get the pi value:\n",
    "import math\n",
    "\n",
    "# Using of math module:\n",
    "def circle_area(Radius):\n",
    "    return math.pi*Radius**2\n",
    "\n",
    "# Calculating the area of the circle with the given radius value:\n",
    "area_of_circle = circle_area(10)\n",
    "print(area_of_circle)\n",
    "    "
   ]
  },
  {
   "cell_type": "markdown",
   "id": "c2a8fb6e-def5-4e2e-a946-1c2d0a4c27db",
   "metadata": {},
   "source": [
    "#### 3)Build a simple calculator which can: add, subtract, multiply, divide. \r",
    "#### Hint: solve by writing a function that takes as argument two numbers and the operation and returns the desired output.\n",
    "#### Run test for function(2,5,’d’)\n",
    "#### Output: 0.4\r"
   ]
  },
  {
   "cell_type": "code",
   "execution_count": 69,
   "id": "67af92ea-c447-4c39-b70e-23f493794123",
   "metadata": {},
   "outputs": [
    {
     "name": "stdout",
     "output_type": "stream",
     "text": [
      "0.4\n"
     ]
    }
   ],
   "source": [
    "def simple_calculator(first_num,second_num,math_operation):\n",
    "    if math_operation == 'a' : # Math operation - addition\n",
    "        return first_num + second_num\n",
    "    elif math_operation == 's' : # Math operation - substraction\n",
    "        return first_num - second_num\n",
    "    elif math_operation == 'm': # Math operation - multiplication\n",
    "        return first_num * second_num\n",
    "    elif math_operation == 'd': # Math operation - division\n",
    "        if second_num != 0:\n",
    "            return first_num/second_num\n",
    "        else :\n",
    "            return \"Error : Division from 0 is not valid\"\n",
    "    else :\n",
    "        return \" Invalid, maths operation\"\n",
    "\n",
    "# Testing the function with th given values:\n",
    "final_result = simple_calculator(2,5,'d')\n",
    "\n",
    "# Printing the result :\n",
    "print(final_result)"
   ]
  },
  {
   "cell_type": "markdown",
   "id": "ff776ddd-3b00-4d8c-b0be-b85229ba0808",
   "metadata": {},
   "source": [
    "#### 4) Define a class named Rectangle which can be constructed by a length and width. The Rectangle class has a method which can compute the area.\n",
    "#### Run test for r = Rectangle(5,10)\n",
    "#### r.area()\n",
    "#### Output: 50  "
   ]
  },
  {
   "cell_type": "code",
   "execution_count": 71,
   "id": "3a771875-f3ad-43a8-8523-fc873591fb32",
   "metadata": {},
   "outputs": [
    {
     "name": "stdout",
     "output_type": "stream",
     "text": [
      "50\n"
     ]
    }
   ],
   "source": [
    "# Creating the new class for Rectangle:\n",
    "class Rectangle:\n",
    "    def __init__(self, length,width):\n",
    "        self.length = length\n",
    "        self.width = width\n",
    "\n",
    "# Constructing the method of computing area :\n",
    "    def area(self):\n",
    "        return self.length * self.width\n",
    "\n",
    "# Testing the class :\n",
    "r = Rectangle(5, 10)\n",
    "final_result = r.area()\n",
    "\n",
    "# printing the rsult :\n",
    "print(final_result)\n",
    "    "
   ]
  },
  {
   "cell_type": "markdown",
   "id": "3f70cc51-4412-4e39-82b0-0b615405e36f",
   "metadata": {},
   "source": [
    "#### 5) Define a class named Shape and its subclass Square. Shape objects can be consrtucted by name and length has an area function wich return 0.\n",
    "#### Square subclass has an init function which take a length and name as argument and has an area method and a describe method what prints the name of the Shape.\r",
    "####  Print the area from Square class.\r",
    "#### Run test for: s = Square('square',5)\n",
    "####               print(s.area())\r",
    "####               print(s.describe())\n",
    "#### Output: The area is: 25\n",
    "####  This is a: square"
   ]
  },
  {
   "cell_type": "code",
   "execution_count": 73,
   "id": "31159003-e1d1-4766-a43b-256ec3329813",
   "metadata": {},
   "outputs": [
    {
     "name": "stdout",
     "output_type": "stream",
     "text": [
      "The area is:\n",
      "25\n",
      "This is a: square\n"
     ]
    }
   ],
   "source": [
    "# Creating a new base class for shape :\n",
    "class shape:\n",
    "    def __init__(self, name, length):\n",
    "     self.name = name\n",
    "     self.length = length\n",
    "\n",
    "# Creatng the areea function which returns \"0\" :\n",
    "    def area(self):\n",
    "        return 0 \n",
    "\n",
    "# Creating the subclass for square:\n",
    "class Square(shape):\n",
    "    def __ini__(self, name, length):\n",
    "        super().__init__(name,length)\n",
    "\n",
    "# Calculating the area of the square:\n",
    "    def area(self):\n",
    "        return self.length ** 2\n",
    "\n",
    "    def describe(self):\n",
    "        return f\"This is a: {self.name}\" \n",
    "        \n",
    "# Testing the class :\n",
    "s = Square('square', 5)\n",
    "print(f\"The area is:\\n{s.area()}\")\n",
    "print(s.describe())"
   ]
  },
  {
   "cell_type": "code",
   "execution_count": null,
   "id": "5aadafb5-4e18-4a0d-959b-8f025ab38afd",
   "metadata": {},
   "outputs": [],
   "source": []
  }
 ],
 "metadata": {
  "kernelspec": {
   "display_name": "Python 3 (ipykernel)",
   "language": "python",
   "name": "python3"
  },
  "language_info": {
   "codemirror_mode": {
    "name": "ipython",
    "version": 3
   },
   "file_extension": ".py",
   "mimetype": "text/x-python",
   "name": "python",
   "nbconvert_exporter": "python",
   "pygments_lexer": "ipython3",
   "version": "3.12.4"
  }
 },
 "nbformat": 4,
 "nbformat_minor": 5
}
